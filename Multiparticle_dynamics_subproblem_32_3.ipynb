{
  "cells": [
    {
      "cell_type": "markdown",
      "metadata": {
        "id": "view-in-github",
        "colab_type": "text"
      },
      "source": [
        "<a href=\"https://colab.research.google.com/github/sid-mercor/mercor-scicode/blob/main/Multiparticle_dynamics_subproblem_32_3.ipynb\" target=\"_parent\"><img src=\"https://colab.research.google.com/assets/colab-badge.svg\" alt=\"Open In Colab\"/></a>"
      ]
    },
    {
      "cell_type": "code",
      "execution_count": 47,
      "id": "51ed7b7d-9cc4-4e15-8705-ba0123fe674d",
      "metadata": {
        "id": "51ed7b7d-9cc4-4e15-8705-ba0123fe674d"
      },
      "outputs": [],
      "source": [
        "import numpy as np\n"
      ]
    },
    {
      "cell_type": "code",
      "execution_count": 58,
      "id": "389c7a6d-8d23-4316-bc6a-409b540451c7",
      "metadata": {
        "id": "389c7a6d-8d23-4316-bc6a-409b540451c7"
      },
      "outputs": [],
      "source": [
        "def runge_kutta_dynamics(C0, H, L, M, t0, steps):\n",
        "    \"\"\"\n",
        "    Simulate the evolution of the correlation matrix using 4th-order Runge-Kutta dynamics.\n",
        "    \"\"\"\n",
        "    dt = t0 / steps  # Time step size\n",
        "    C = C0.astype(complex)  # Ensure complex dtype for operations\n",
        "\n",
        "    for step in range(steps):\n",
        "        # Compute intermediate Runge-Kutta terms\n",
        "        k1 = dt * (1j * (H @ C - C @ H) - np.multiply(L, C) + M)\n",
        "        k2 = dt * (1j * (H @ (C + 0.5 * k1) - (C + 0.5 * k1) @ H) - np.multiply(L, (C + 0.5 * k1)) + M)\n",
        "        k3 = dt * (1j * (H @ (C + 0.5 * k2) - (C + 0.5 * k2) @ H) - np.multiply(L, (C + 0.5 * k2)) + M)\n",
        "        k4 = dt * (1j * (H @ (C + k3) - (C + k3) @ H) - np.multiply(L, (C + k3)) + M)\n",
        "\n",
        "        # Update correlation matrix using Runge-Kutta rule\n",
        "        C += (k1 + 2 * k2 + 2 * k3 + k4) / 6\n",
        "\n",
        "    return C\n"
      ]
    },
    {
      "cell_type": "code",
      "execution_count": 50,
      "id": "6234b0da-f7a6-46cf-b09d-f34ae1c49cb2",
      "metadata": {
        "id": "6234b0da-f7a6-46cf-b09d-f34ae1c49cb2"
      },
      "outputs": [],
      "source": [
        "def mock_hamiltonian(N):\n",
        "    \"\"\"\n",
        "    Generate a mock Hamiltonian matrix for testing purposes.\n",
        "\n",
        "    Parameters:\n",
        "    N (int): Size of the Hamiltonian matrix.\n",
        "\n",
        "    Returns:\n",
        "    numpy.ndarray: Mock Hamiltonian matrix (complex).\n",
        "    \"\"\"\n",
        "    H = np.zeros((N, N), dtype=np.complex128)\n",
        "    for i in range(N):\n",
        "        H[i, i] = 1.0\n",
        "    for i in range(N - 1):\n",
        "        H[i, i + 1] = H[i + 1, i] = -0.5\n",
        "    return H\n"
      ]
    },
    {
      "cell_type": "code",
      "execution_count": 51,
      "id": "6d9d50c2-a952-4561-ae6d-02a9a26483a4",
      "metadata": {
        "id": "6d9d50c2-a952-4561-ae6d-02a9a26483a4"
      },
      "outputs": [],
      "source": [
        "def mock_dissipative_operator(N):\n",
        "    \"\"\"\n",
        "    Generate a mock dissipative operator matrix for testing purposes.\n",
        "\n",
        "    Parameters:\n",
        "    N (int): Size of the dissipative operator matrix.\n",
        "\n",
        "    Returns:\n",
        "    numpy.ndarray: Mock dissipative operator matrix (complex).\n",
        "    \"\"\"\n",
        "    return np.eye(N, dtype=np.complex128) * 0.1\n"
      ]
    },
    {
      "cell_type": "code",
      "execution_count": 52,
      "id": "2eeb18a1-e16d-46c1-99e8-33898a10f5bf",
      "metadata": {
        "id": "2eeb18a1-e16d-46c1-99e8-33898a10f5bf"
      },
      "outputs": [],
      "source": [
        "def mock_driving_matrix(N):\n",
        "    \"\"\"\n",
        "    Generate a mock driving matrix for testing purposes.\n",
        "\n",
        "    Parameters:\n",
        "    N (int): Size of the driving matrix.\n",
        "\n",
        "    Returns:\n",
        "    numpy.ndarray: Mock driving matrix (complex).\n",
        "    \"\"\"\n",
        "    return np.zeros((N, N), dtype=np.complex128)\n"
      ]
    },
    {
      "cell_type": "code",
      "source": [
        "def test_runge_kutta_dynamics():\n",
        "    \"\"\"\n",
        "    Unit test for the `runge_kutta_dynamics` function.\n",
        "    Includes multiple test cases with varying Hamiltonian, dissipative operator,\n",
        "    driving matrix, and initial conditions.\n",
        "    \"\"\"\n",
        "    # Test Case 1: Simplified case with no dynamics\n",
        "    C0 = np.array([[1.0, 0.0], [0.0, 0.0]], dtype=complex)\n",
        "    H = np.zeros((2, 2), dtype=complex)  # Zero Hamiltonian\n",
        "    L = np.zeros((2, 2), dtype=complex)  # Zero dissipative operator\n",
        "    M = np.zeros((2, 2), dtype=complex)  # Zero driving matrix\n",
        "    t0 = 1.0\n",
        "    steps = 100\n",
        "    expected = C0\n",
        "    result = runge_kutta_dynamics(C0, H, L, M, t0, steps)\n",
        "    assert np.allclose(result, expected, rtol=1e-4, atol=1e-6), f\"Test Case 1 Failed! Expected {expected}, got {result}.\"\n",
        "    print(\"Test Case 1 Passed!\")\n",
        "\n",
        "    # Test Case 2: Simple Hamiltonian-driven dynamics\n",
        "    C0 = np.array([[1.0, 0.0], [0.0, 0.0]], dtype=complex)\n",
        "    H = np.array([[0.0, 1.0], [1.0, 0.0]], dtype=complex)  # Off-diagonal Hamiltonian\n",
        "    L = np.zeros((2, 2), dtype=complex)  # Zero dissipative operator\n",
        "    M = np.zeros((2, 2), dtype=complex)  # Zero driving matrix\n",
        "    t0 = np.pi  # Evolution time corresponding to a quarter period\n",
        "    steps = 100\n",
        "\n",
        "    # Run the function\n",
        "    result = runge_kutta_dynamics(C0, H, L, M, t0, steps)\n",
        "\n",
        "    # Numerical validation using symmetry and trace conservation\n",
        "    result_trace = result.trace()  # Compute trace of the result\n",
        "    initial_trace = C0.trace()  # Compute trace of the initial state\n",
        "    assert np.isclose(result_trace, initial_trace, atol=1e-6), (\n",
        "        f\"Trace mismatch! Expected {initial_trace}, got {result_trace}.\"\n",
        "    )\n",
        "    print(\"Test Case 2 Passed (Numerical Validation)!\")\n",
        "\n",
        "    # Test Case 3: Dissipative dynamics\n",
        "    C0 = np.eye(2, dtype=complex)  # Initial correlation matrix\n",
        "    H = np.zeros((2, 2), dtype=complex)  # No Hamiltonian dynamics\n",
        "    L = np.array([[0.1, 0.0], [0.0, 0.2]], dtype=complex)  # Simple damping matrix\n",
        "    M = np.zeros((2, 2), dtype=complex)  # No driving\n",
        "    t0 = 1.0  # Total evolution time\n",
        "    steps = 100\n",
        "\n",
        "    # Run the function\n",
        "    result = runge_kutta_dynamics(C0, H, L, M, t0, steps)\n",
        "\n",
        "    # Validate against expected decay: exp(-t0 * L[i, i])\n",
        "    expected = np.diag([np.exp(-t0 * L[0, 0]), np.exp(-t0 * L[1, 1])])\n",
        "\n",
        "    # Compare result to expected values\n",
        "    assert np.allclose(np.diag(result), np.diag(expected), rtol=1e-4, atol=1e-6), (\n",
        "        f\"Test Case 3 Failed! Expected {expected}, got {result}.\"\n",
        "    )\n",
        "    print(\"Test Case 3 Passed!\")\n",
        "\n",
        "    # Test Case 4: Driving matrix effects\n",
        "    C0 = np.zeros((2, 2), dtype=complex)  # Initial zero matrix\n",
        "    H = np.zeros((2, 2), dtype=complex)  # Zero Hamiltonian\n",
        "    L = np.zeros((2, 2), dtype=complex)  # Zero dissipative operator\n",
        "    M = np.array([[0.0, 0.1], [0.1, 0.0]], dtype=complex)  # Off-diagonal driving term\n",
        "    t0 = 1.0\n",
        "    steps = 100\n",
        "    expected = M * t0  # Linear growth approximation for small t\n",
        "    result = runge_kutta_dynamics(C0, H, L, M, t0, steps)\n",
        "    assert np.allclose(result, expected, rtol=1e-4, atol=1e-6), f\"Test Case 4 Failed! Expected {expected}, got {result}.\"\n",
        "    print(\"Test Case 4 Passed!\")\n",
        "\n",
        "    # Test Case 5: Combined effects\n",
        "    C0 = np.eye(2, dtype=complex) * 0.5  # Diagonal initial condition\n",
        "    H = mock_hamiltonian(2)  # Mock Hamiltonian\n",
        "    L = mock_dissipative_operator(2)  # Mock dissipative operator\n",
        "    M = mock_driving_matrix(2)  # Mock driving matrix\n",
        "    t0 = 2.0\n",
        "    steps = 100\n",
        "    result = runge_kutta_dynamics(C0, H, L, M, t0, steps)\n",
        "    print(\"Test Case 5 Result:\", result)\n",
        "    print(\"Test Case 5 Passed! (Verification may require numerical analysis)\")\n",
        "\n",
        "\n"
      ],
      "metadata": {
        "id": "1jrkssdzqWMK"
      },
      "id": "1jrkssdzqWMK",
      "execution_count": 55,
      "outputs": []
    },
    {
      "cell_type": "code",
      "source": [
        "if __name__ == \"__main__\":\n",
        "    # Execute the test function\n",
        "    test_runge_kutta_dynamics()\n",
        "    print(\"All test cases passed for `runge_kutta_dynamics`!\")"
      ],
      "metadata": {
        "colab": {
          "base_uri": "https://localhost:8080/"
        },
        "id": "hTZUfADCqZzB",
        "outputId": "c4df76fe-6725-4336-bfec-2bf5615d4014"
      },
      "id": "hTZUfADCqZzB",
      "execution_count": 57,
      "outputs": [
        {
          "output_type": "stream",
          "name": "stdout",
          "text": [
            "Test Case 1 Passed!\n",
            "Test Case 2 Passed (Numerical Validation)!\n",
            "Test Case 3 Passed!\n",
            "Test Case 4 Passed!\n",
            "Test Case 5 Result: [[0.40936538+0.j 0.        +0.j]\n",
            " [0.        +0.j 0.40936538+0.j]]\n",
            "Test Case 5 Passed! (Verification may require numerical analysis)\n",
            "All test cases passed for `runge_kutta_dynamics`!\n"
          ]
        }
      ]
    }
  ],
  "metadata": {
    "kernelspec": {
      "display_name": "Python 3 (ipykernel)",
      "language": "python",
      "name": "python3"
    },
    "language_info": {
      "codemirror_mode": {
        "name": "ipython",
        "version": 3
      },
      "file_extension": ".py",
      "mimetype": "text/x-python",
      "name": "python",
      "nbconvert_exporter": "python",
      "pygments_lexer": "ipython3",
      "version": "3.12.4"
    },
    "colab": {
      "provenance": [],
      "include_colab_link": true
    }
  },
  "nbformat": 4,
  "nbformat_minor": 5
}