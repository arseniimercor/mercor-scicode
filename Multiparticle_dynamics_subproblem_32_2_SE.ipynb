{
  "cells": [
    {
      "cell_type": "markdown",
      "metadata": {
        "id": "view-in-github",
        "colab_type": "text"
      },
      "source": [
        "<a href=\"https://colab.research.google.com/github/sid-mercor/mercor-scicode/blob/main/Multiparticle_dynamics_subproblem_32_2_1_SE.ipynb\" target=\"_parent\"><img src=\"https://colab.research.google.com/assets/colab-badge.svg\" alt=\"Open In Colab\"/></a>"
      ]
    },
    {
      "cell_type": "code",
      "execution_count": null,
      "id": "51ed7b7d-9cc4-4e15-8705-ba0123fe674d",
      "metadata": {
        "id": "51ed7b7d-9cc4-4e15-8705-ba0123fe674d"
      },
      "outputs": [],
      "source": [
        "import numpy as np\n",
        "from scipy.constants import epsilon_0, c\n"
      ]
    },
    {
      "cell_type": "code",
      "execution_count": null,
      "id": "389c7a6d-8d23-4316-bc6a-409b540451c7",
      "metadata": {
        "id": "389c7a6d-8d23-4316-bc6a-409b540451c7"
      },
      "outputs": [],
      "source": [
        "def mock_binding_force(P, phi, R, l, w, a, n):\n",
        "    \"\"\"\n",
        "    Mock function to replace `binding_force` for testing purposes.\n",
        "    Always returns a fixed value to simplify testing.\n",
        "\n",
        "    Parameters:\n",
        "    P (list): Powers of the optical traps (W).\n",
        "    phi (float): Polarization angle (radians).\n",
        "    R (float): Distance between nanospheres (m).\n",
        "    l (float): Wavelength of optical traps (m).\n",
        "    w (float): Beam waist of optical traps (m).\n",
        "    a (float): Radius of nanospheres (m).\n",
        "    n (float): Refractive index of nanospheres.\n",
        "\n",
        "    Returns:\n",
        "    float: Fixed optical binding force (N).\n",
        "    \"\"\"\n",
        "    return 1.0  # Replace with a constant value for predictable results\n"
      ]
    },
    {
      "cell_type": "code",
      "execution_count": null,
      "id": "6234b0da-f7a6-46cf-b09d-f34ae1c49cb2",
      "metadata": {
        "id": "6234b0da-f7a6-46cf-b09d-f34ae1c49cb2"
      },
      "outputs": [],
      "source": [
        "def generate_hamiltonian(P, phi, R, l, w, a, n, N, rho):\n",
        "    \"\"\"\n",
        "    Generate the Hamiltonian matrix for the nanosphere system.\n",
        "\n",
        "    Parameters:\n",
        "    P (list): Power of the optical traps for each nanosphere (W).\n",
        "    phi (float): Polarization angle of the traps (radians).\n",
        "    R (float): Distance between adjacent nanospheres (m).\n",
        "    l (float): Wavelength of the optical traps (m).\n",
        "    w (float): Beam waist of the optical traps (m).\n",
        "    a (float): Radius of the nanospheres (m).\n",
        "    n (float): Refractive index of the nanospheres.\n",
        "    N (int): Number of nanospheres.\n",
        "    rho (float): Density of the nanospheres (kg/m³).\n",
        "\n",
        "    Returns:\n",
        "    numpy.ndarray: The Hamiltonian matrix of the system.\n",
        "    \"\"\"\n",
        "    # Mass of a single nanosphere\n",
        "    m = (4 / 3) * np.pi * a**3 * rho\n",
        "\n",
        "    # Initialize the Hamiltonian matrix\n",
        "    H = np.zeros((N, N))\n",
        "\n",
        "    # Fill diagonal with self-interaction frequencies\n",
        "    for i in range(N):\n",
        "        H[i, i] = np.sqrt(mock_binding_force([P[i], P[i]], phi, R, l, w, a, n) / m)\n",
        "\n",
        "    # Fill off-diagonal with coupling constants\n",
        "    for i in range(N - 1):\n",
        "        coupling = mock_binding_force([P[i], P[i + 1]], phi, R, l, w, a, n)\n",
        "        H[i, i + 1] = H[i + 1, i] = -coupling / m\n",
        "\n",
        "    return H\n"
      ]
    },
    {
      "cell_type": "code",
      "source": [
        "def test_generate_hamiltonian():\n",
        "    \"\"\"\n",
        "    Test cases for the `generate_hamiltonian` function.\n",
        "    \"\"\"\n",
        "    # Test Case 1: 2 Nanospheres\n",
        "    P = [1e-3, 1e-3]  # Laser power (W)\n",
        "    phi = 0.0  # Polarization angle (radians)\n",
        "    R = 1e-6  # Distance (m)\n",
        "    l = 1.55e-6  # Wavelength (m)\n",
        "    w = 0.6e-6  # Beam waist (m)\n",
        "    a = 0.1e-6  # Radius (m)\n",
        "    n = 1.444  # Refractive index\n",
        "    rho = 2200  # Density (kg/m³)\n",
        "    N = 2  # Number of nanospheres\n",
        "\n",
        "    # Call the function\n",
        "    H = generate_hamiltonian(P, phi, R, l, w, a, n, N, rho)\n",
        "\n",
        "    # Expected result\n",
        "    expected_H = np.array([\n",
        "        [np.sqrt(1.0 / (4 / 3 * np.pi * a**3 * rho)), -1.0 / (4 / 3 * np.pi * a**3 * rho)],\n",
        "        [-1.0 / (4 / 3 * np.pi * a**3 * rho), np.sqrt(1.0 / (4 / 3 * np.pi * a**3 * rho))]\n",
        "    ])\n",
        "\n",
        "    # Assert equality\n",
        "    assert np.allclose(H, expected_H, rtol=1e-4, atol=1e-6), \"Test Case 1 Failed!\"\n",
        "\n",
        "    print(\"Test Case 1 Passed!\")\n",
        "\n",
        "    # Test Case 2: 3 Nanospheres\n",
        "    N = 3\n",
        "    H = generate_hamiltonian(P * N, phi, R, l, w, a, n, N, rho)\n",
        "\n",
        "    # Expected result for 3 nanospheres\n",
        "    expected_H = np.zeros((3, 3))\n",
        "    for i in range(3):\n",
        "        expected_H[i, i] = np.sqrt(1.0 / (4 / 3 * np.pi * a**3 * rho))\n",
        "    expected_H[0, 1] = expected_H[1, 0] = expected_H[1, 2] = expected_H[2, 1] = -1.0 / (4 / 3 * np.pi * a**3 * rho)\n",
        "\n",
        "    # Assert equality\n",
        "    assert np.allclose(H, expected_H, rtol=1e-4, atol=1e-6), \"Test Case 2 Failed!\"\n",
        "\n",
        "    print(\"Test Case 2 Passed!\")\n"
      ],
      "metadata": {
        "id": "2Ff7CJY5LQn0"
      },
      "id": "2Ff7CJY5LQn0",
      "execution_count": null,
      "outputs": []
    },
    {
      "cell_type": "code",
      "execution_count": null,
      "id": "6d9d50c2-a952-4561-ae6d-02a9a26483a4",
      "metadata": {
        "colab": {
          "base_uri": "https://localhost:8080/"
        },
        "id": "6d9d50c2-a952-4561-ae6d-02a9a26483a4",
        "outputId": "2f4cd0e8-33cc-4735-af9f-538b2a0470f9"
      },
      "outputs": [
        {
          "output_type": "stream",
          "name": "stdout",
          "text": [
            "Test Case 1 Passed!\n",
            "Test Case 2 Passed!\n",
            "All test cases passed for `generate_hamiltonian`!\n"
          ]
        }
      ],
      "source": [
        "if __name__ == \"__main__\":\n",
        "    # Execute tests\n",
        "    test_generate_hamiltonian()\n",
        "    print(\"All test cases passed for `generate_hamiltonian`!\")\n"
      ]
    },
    {
      "cell_type": "code",
      "execution_count": null,
      "id": "88529ea1-286b-42a4-9ab1-149234b68403",
      "metadata": {
        "id": "88529ea1-286b-42a4-9ab1-149234b68403"
      },
      "outputs": [],
      "source": []
    },
    {
      "cell_type": "code",
      "execution_count": null,
      "id": "2eeb18a1-e16d-46c1-99e8-33898a10f5bf",
      "metadata": {
        "id": "2eeb18a1-e16d-46c1-99e8-33898a10f5bf"
      },
      "outputs": [],
      "source": []
    }
  ],
  "metadata": {
    "kernelspec": {
      "display_name": "Python 3 (ipykernel)",
      "language": "python",
      "name": "python3"
    },
    "language_info": {
      "codemirror_mode": {
        "name": "ipython",
        "version": 3
      },
      "file_extension": ".py",
      "mimetype": "text/x-python",
      "name": "python",
      "nbconvert_exporter": "python",
      "pygments_lexer": "ipython3",
      "version": "3.12.4"
    },
    "colab": {
      "provenance": [],
      "include_colab_link": true
    }
  },
  "nbformat": 4,
  "nbformat_minor": 5
}
